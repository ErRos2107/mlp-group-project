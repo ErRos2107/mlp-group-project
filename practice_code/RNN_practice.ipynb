{
 "cells": [
  {
   "cell_type": "code",
   "execution_count": 1,
   "metadata": {},
   "outputs": [
    {
     "name": "stderr",
     "output_type": "stream",
     "text": [
      "/afs/inf.ed.ac.uk/user/s17/s1758150/miniconda3/envs/mlp/lib/python3.6/importlib/_bootstrap.py:205: RuntimeWarning: compiletime version 3.5 of module 'tensorflow.python.framework.fast_tensor_util' does not match runtime version 3.6\n",
      "  return f(*args, **kwds)\n"
     ]
    }
   ],
   "source": [
    "import tensorflow as tf\n",
    "import numpy as np\n",
    "import sys\n",
    "\n",
    "sys.path.append(\"..\")\n",
    "tf.reset_default_graph()\n",
    "\n",
    "seed = 1234\n",
    "dropout = 0.25\n",
    "rnd = tf.set_random_seed(seed)\n",
    "\n"
   ]
  },
  {
   "cell_type": "code",
   "execution_count": 3,
   "metadata": {},
   "outputs": [
    {
     "name": "stdout",
     "output_type": "stream",
     "text": [
      "End of epoch 1: running error average = 3.50\n",
      "End of epoch 2: running error average = 2.68\n",
      "End of epoch 3: running error average = 2.16\n",
      "End of epoch 4: running error average = 1.83\n",
      "End of epoch 5: running error average = 1.61\n",
      "End of epoch 6: running error average = 1.45\n",
      "End of epoch 7: running error average = 1.33\n",
      "End of epoch 8: running error average = 1.22\n",
      "End of epoch 9: running error average = 1.14\n",
      "End of epoch 10: running error average = 1.07\n"
     ]
    }
   ],
   "source": [
    "tf.reset_default_graph()\n",
    "\n",
    "inputs = tf.placeholder(tf.float32, [None, 28,28], 'inputs')\n",
    "targets = tf.placeholder(tf.float32, [None, 47], 'targets')\n",
    "\n",
    "\n",
    "learning_rate = 0.001\n",
    "training_steps = 10\n",
    "batch_size = 50\n",
    "display_step = 1\n",
    "\n",
    "num_input = 28\n",
    "timestep = 28\n",
    "num_hidden=128\n",
    "num_classes =47\n",
    "\n",
    "weights = {'out':tf.Variable(tf.random_normal([num_hidden, num_classes]))\n",
    "          }\n",
    "biases = {'out':tf.Variable(tf.random_normal([num_classes]))\n",
    "         }\n",
    "\n",
    "x = tf.unstack(inputs, timestep, 1)\n",
    "\n",
    "lstm_cell = tf.contrib.rnn.BasicLSTMCell(num_hidden, forget_bias = 1.0)\n",
    "\n",
    "outputs, states = tf.contrib.rnn.static_rnn(lstm_cell, x, dtype=tf.float32)\n",
    "\n",
    "logits = tf.matmul(outputs[-1], weights['out'])+biases['out']\n",
    "prediction = tf.nn.softmax(logits)\n",
    "\n",
    "per_datapoint_errors = tf.nn.softmax_cross_entropy_with_logits(\\\n",
    "                        logits = logits, labels =targets)\n",
    "error = tf.reduce_mean(per_datapoint_errors)\n",
    "\n",
    "\n",
    "per_datapoint_pred_is_correct = tf.equal(tf.argmax(logits,1),\\\n",
    "                                         tf.argmax(targets,1))\n",
    "accuracy = tf.reduce_mean(tf.cast(per_datapoint_pred_is_correct, tf.float32))\n",
    "\n",
    "train_step = tf.train.GradientDescentOptimizer(learning_rate = learning_rate).minimize(error)\n",
    "\n",
    "\n",
    "\n",
    "sess = tf.InteractiveSession()\n",
    "init_op = tf.global_variables_initializer()\n",
    "sess.run(init_op)\n",
    "\n",
    "import data_providers as data_providers\n",
    "\n",
    "train_data = data_providers.EMNISTDataProvider('train', batch_size=50,\\\n",
    "                                              flatten=False, one_hot=True)\n",
    "valid_data = data_providers.EMNISTDataProvider('valid', batch_size=50,\\\n",
    "                                              flatten=False, one_hot=True)\n",
    "\n",
    "num_epoch = 10\n",
    "\n",
    "for e in range(num_epoch):\n",
    "    running_error=0\n",
    "    for input_batch, target_batch in train_data:\n",
    "        _, batch_error = sess.run([train_step, error], \\\n",
    "                                 feed_dict={inputs: input_batch, targets: target_batch})\n",
    "        running_error += batch_error\n",
    "    running_error /= train_data.num_batches\n",
    "    print('End of epoch {0}: running error average = {1:.2f}'.format(e+1, running_error))"
   ]
  }
 ],
 "metadata": {
  "kernelspec": {
   "display_name": "Python 3",
   "language": "python",
   "name": "python3"
  },
  "language_info": {
   "codemirror_mode": {
    "name": "ipython",
    "version": 3
   },
   "file_extension": ".py",
   "mimetype": "text/x-python",
   "name": "python",
   "nbconvert_exporter": "python",
   "pygments_lexer": "ipython3",
   "version": "3.6.2"
  }
 },
 "nbformat": 4,
 "nbformat_minor": 2
}
