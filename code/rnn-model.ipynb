{
 "cells": [
  {
   "cell_type": "code",
   "execution_count": 1,
   "metadata": {},
   "outputs": [
    {
     "name": "stderr",
     "output_type": "stream",
     "text": [
      "/afs/inf.ed.ac.uk/user/s17/s1758150/miniconda3/envs/mlp/lib/python3.6/importlib/_bootstrap.py:205: RuntimeWarning: compiletime version 3.5 of module 'tensorflow.python.framework.fast_tensor_util' does not match runtime version 3.6\n",
      "  return f(*args, **kwds)\n"
     ]
    }
   ],
   "source": [
    "from data_provider import ASSISTDataProvider\n",
    "\n",
    "import matplotlib.pyplot as plt\n",
    "import numpy as np\n",
    "import tensorflow as tf\n",
    "\n",
    "%matplotlib inline"
   ]
  },
  {
   "cell_type": "code",
   "execution_count": 3,
   "metadata": {},
   "outputs": [],
   "source": [
    "DATA_DIR = '~/Data/'\n",
    "BATCH_SIZE = 10\n",
    "\n",
    "TrainingSet = ASSISTDataProvider(DATA_DIR, batch_size=BATCH_SIZE)"
   ]
  },
  {
   "cell_type": "code",
   "execution_count": 4,
   "metadata": {
    "collapsed": true
   },
   "outputs": [],
   "source": [
    "def embed(array, dimensions=100, rng=None):\n",
    "    \"\"\"Embed array as a vector from a Standard Normal in dimensions.\n",
    "    \n",
    "    Only the last dimension of the data is affected.\n",
    "    \n",
    "    Parameters\n",
    "    ----------\n",
    "    dimensions : int (default=100)\n",
    "        DKT paper embeds one-hot inputs to 100 dims\n",
    "    rng : numpy.random.RandomState (default=None)\n",
    "    \"\"\"\n",
    "    if not rng:\n",
    "        rng = np.random.RandomState()\n",
    "    linear_map = rng.randn(data.shape[-1], dimensions)\n",
    "    return np.dot(data, linear_map)"
   ]
  },
  {
   "cell_type": "code",
   "execution_count": 5,
   "metadata": {
    "collapsed": true
   },
   "outputs": [],
   "source": [
    "class LstmModel:\n",
    "    \n",
    "    def __init__(self, max_time_steps=973, feature_len=293):\n",
    "        self.max_time_steps = max_time_steps\n",
    "        self.feature_len = feature_len\n",
    "\n",
    "    def build_graph(self, n_hidden_layers=1, n_hidden_units=200, keep_prob=1.0):\n",
    "        \"\"\"Build a TensorFlow computational graph for an LSTM network.\n",
    "\n",
    "        Model based on \"DKT paper\" (see section 3): \n",
    "            Piech, Chris, et al. \"Deep knowledge tracing.\" \n",
    "            Advances in Neural Information Processing Systems. 2015.\n",
    "            \n",
    "        Implementation based on \"GD paper\" (see section 3): \n",
    "            Xiong, Xiaolu, et al. \"Going Deeper with Deep Knowledge Tracing.\"\n",
    "            EDM. 2016.\n",
    "\n",
    "\n",
    "        Parameters\n",
    "        ----------\n",
    "        n_hidden_layers : int (default=1)\n",
    "            A single hidden layer was used in DKT paper\n",
    "        n_hidden_units : int (default=200)\n",
    "            200 hidden units were used in DKT paper\n",
    "        keep_prob : float in [0, 1] (default=1.0)\n",
    "            Probability a unit is kept in dropout layer\n",
    "        \"\"\"\n",
    "        tf.reset_default_graph()\n",
    "\n",
    "        # data. 'None' means any length batch size accepted\n",
    "        self.inputs = tf.placeholder(\n",
    "            tf.float32, \n",
    "            shape=[self.max_time_steps, None, self.feature_len], \n",
    "            name='inputs')\n",
    "        \n",
    "        self.targets = tf.placeholder(tf.float32, \n",
    "                                      shape=[None], \n",
    "                                      name='targets')\n",
    "        \n",
    "        # int type required for tf.gather function\n",
    "        self.target_ids = tf.placeholder(tf.int32, \n",
    "                                         shape=[None], \n",
    "                                         name='target_ids')\n",
    "\n",
    "        # model. LSTM layer(s) then linear layer (softmax applied in loss)\n",
    "        cell = tf.nn.rnn_cell.BasicLSTMCell(n_hidden_units)\n",
    "        if keep_prob < 1:\n",
    "            cell = tf.nn.rnn_cell.DropoutWrapper(cell, keep_prob)\n",
    "        if n_hidden_layers > 1:\n",
    "            cells = [cell for layer in n_hidden_layers]\n",
    "            cell = tf.nn.rnn_cell.MultiRNNCell(cells)\n",
    "\n",
    "        self.outputs, self.state = tf.nn.dynamic_rnn(cell=cell,\n",
    "                                                     inputs=self.inputs,\n",
    "                                                     dtype=tf.float32)\n",
    "        \n",
    "        sigmoid_w = tf.get_variable(dtype=tf.float32,\n",
    "                                    name=\"sigmoid_w\", \n",
    "                                    shape=[n_hidden_units, \n",
    "                                           self.feature_len])\n",
    "        sigmoid_b = tf.get_variable(dtype=tf.float32,\n",
    "                                    name=\"sigmoid_b\", \n",
    "                                    shape=[self.feature_len])\n",
    "        \n",
    "        # reshaping as done in GD paper code \n",
    "        self.outputs = tf.concat(self.outputs, axis=1)\n",
    "        self.outputs = tf.reshape(self.outputs, \n",
    "                                  shape=[-1, n_hidden_units])\n",
    "        logits = tf.matmul(self.outputs, sigmoid_w) + sigmoid_b\n",
    "        \n",
    "        # reshaping as done in GD paper code \n",
    "        logits = tf.reshape(logits, [-1])\n",
    "        logits = tf.gather(logits, self.target_ids)\n",
    "        \n",
    "        # loss\n",
    "        self.loss = tf.reduce_mean(\n",
    "            tf.losses.softmax_cross_entropy(\n",
    "                logits=logits, onehot_labels=self.targets))\n",
    "        learning_rate = 1e-10\n",
    "        optimizer = tf.train.GradientDescentOptimizer(learning_rate)\n",
    "        self.objective = optimizer.minimize(self.loss)\n",
    "        \n",
    "        # predictions\n",
    "        self.predictions = tf.sigmoid(logits)"
   ]
  },
  {
   "cell_type": "code",
   "execution_count": 6,
   "metadata": {},
   "outputs": [
    {
     "name": "stderr",
     "output_type": "stream",
     "text": [
      "/afs/inf.ed.ac.uk/user/s17/s1758150/miniconda3/envs/mlp/lib/python3.6/site-packages/tensorflow/python/ops/gradients_impl.py:96: UserWarning: Converting sparse IndexedSlices to a dense Tensor of unknown shape. This may consume a large amount of memory.\n",
      "  \"Converting sparse IndexedSlices to a dense Tensor of unknown shape. \"\n"
     ]
    }
   ],
   "source": [
    "Model = LstmModel()\n",
    "Model.build_graph()"
   ]
  },
  {
   "cell_type": "markdown",
   "metadata": {},
   "source": [
    "## Train"
   ]
  },
  {
   "cell_type": "code",
   "execution_count": 8,
   "metadata": {},
   "outputs": [],
   "source": [
    "with tf.Session() as sess:\n",
    "#     train_saver = tf.train.Saver()\n",
    "    \n",
    "    sess.run(tf.global_variables_initializer())\n",
    "    \n",
    "    losses = []\n",
    "    i = 0\n",
    "    for epoch in range(10): \n",
    "        \n",
    "        for inputs, targets, target_ids in TrainingSet:\n",
    "            inputs = np.squeeze(np.array(inputs, dtype=np.float32))\n",
    "            targets = np.array(targets, dtype=np.float32)\n",
    "            target_ids = np.array(target_ids, dtype=np.int32)\n",
    "            \n",
    "            # Train!\n",
    "            _, loss = sess.run(\n",
    "                [Model.objective, Model.loss],\n",
    "                feed_dict={Model.inputs: inputs,\n",
    "                           Model.targets: targets,\n",
    "                           Model.target_ids: target_ids})\n",
    "            \n",
    "            losses.append(loss)\n",
    "            \n",
    "            i += 1\n",
    "            #if i == 10:  # quit after 10 batches\n",
    "            #    raise\n",
    "            \n",
    "            \n",
    "#         save model\n",
    "#         save_path = \"{}/{}_{}.ckpt\".format(\n",
    "#             MODELS_DIR, experiment_name, epoch)\n",
    "#         train_saver.save(sess, save_path)            \n",
    "#     print(\"Saved model at\", save_path)"
   ]
  },
  {
   "cell_type": "code",
   "execution_count": null,
   "metadata": {
    "collapsed": true
   },
   "outputs": [],
   "source": []
  },
  {
   "cell_type": "code",
   "execution_count": 9,
   "metadata": {},
   "outputs": [
    {
     "data": {
      "text/plain": [
       "[<matplotlib.lines.Line2D at 0x7f459e28f940>]"
      ]
     },
     "execution_count": 9,
     "metadata": {},
     "output_type": "execute_result"
    },
    {
     "data": {
      "image/png": "[encoded data removed]",
      "text/plain": [
       "<matplotlib.figure.Figure at 0x7f459f2e67b8>"
      ]
     },
     "metadata": {},
     "output_type": "display_data"
    }
   ],
   "source": [
    "plt.plot(losses)"
   ]
  },
  {
   "cell_type": "code",
   "execution_count": null,
   "metadata": {
    "collapsed": true
   },
   "outputs": [],
   "source": []
  },
  {
   "cell_type": "code",
   "execution_count": null,
   "metadata": {
    "collapsed": true
   },
   "outputs": [],
   "source": []
  },
  {
   "cell_type": "code",
   "execution_count": null,
   "metadata": {
    "collapsed": true
   },
   "outputs": [],
   "source": []
  },
  {
   "cell_type": "code",
   "execution_count": null,
   "metadata": {
    "collapsed": true
   },
   "outputs": [],
   "source": []
  },
  {
   "cell_type": "code",
   "execution_count": null,
   "metadata": {
    "collapsed": true
   },
   "outputs": [],
   "source": []
  },
  {
   "cell_type": "code",
   "execution_count": null,
   "metadata": {
    "collapsed": true
   },
   "outputs": [],
   "source": []
  },
  {
   "cell_type": "code",
   "execution_count": null,
   "metadata": {
    "collapsed": true
   },
   "outputs": [],
   "source": []
  },
  {
   "cell_type": "code",
   "execution_count": null,
   "metadata": {
    "collapsed": true
   },
   "outputs": [],
   "source": []
  },
  {
   "cell_type": "code",
   "execution_count": null,
   "metadata": {
    "collapsed": true
   },
   "outputs": [],
   "source": []
  }
 ],
 "metadata": {
  "kernelspec": {
   "display_name": "Python 3",
   "language": "python",
   "name": "python3"
  },
  "language_info": {
   "codemirror_mode": {
    "name": "ipython",
    "version": 3
   },
   "file_extension": ".py",
   "mimetype": "text/x-python",
   "name": "python",
   "nbconvert_exporter": "python",
   "pygments_lexer": "ipython3",
   "version": "3.6.2"
  }
 },
 "nbformat": 4,
 "nbformat_minor": 2
}
