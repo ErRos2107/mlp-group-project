{
 "cells": [
  {
   "cell_type": "markdown",
   "metadata": {},
   "source": [
    "# How to remotely connect to Dice and GPU cluster?\n",
    "\n",
    "Before starting, we have three types of server as follows. \n",
    "    1. Local sever (your labtop)\n",
    "    2. Dice server (+ shared server)\n",
    "    3. GPU server\n",
    "    \n",
    "### 1. From local to Dice\n",
    "\n",
    "You can connect to the Dice machine on you local server using this command."
   ]
  },
  {
   "cell_type": "raw",
   "metadata": {},
   "source": [
    ">> ssh [your_student_number]@student.ssh.inf.ed.ac.uk"
   ]
  },
  {
   "cell_type": "markdown",
   "metadata": {},
   "source": [
    "Following this command, you should type your dice password once. \n",
    "And then, you should log in to shared server on Dice server with next command. After that, you can activate your mlp virtual environment. If you successfully connected to shared server, you can check that the name of server changed. (e.g. ashbury:~$ )"
   ]
  },
  {
   "cell_type": "raw",
   "metadata": {},
   "source": [
    ">> ssh student.compute\n",
    ">> source activate mlp"
   ]
  },
  {
   "cell_type": "markdown",
   "metadata": {},
   "source": [
    "### 2. Using Jupyter Notebook on your Local server\n",
    "\n",
    "Since jupyter notebook is run via firefox, you should use a specific command line to open jupyter notebook. "
   ]
  },
  {
   "cell_type": "raw",
   "metadata": {},
   "source": [
    ">> nice -n 19 jupyter notebook --no-browser"
   ]
  },
  {
   "cell_type": "markdown",
   "metadata": {},
   "source": [
    "When you type the command above, you will be able to know local host number through NotebookApp."
   ]
  },
  {
   "cell_type": "raw",
   "metadata": {},
   "source": [
    "[I 16:12:22.104 NotebookApp] The Jupyter Notebook is running at: http://localhost:8888/"
   ]
  },
  {
   "cell_type": "markdown",
   "metadata": {},
   "source": [
    "*Then come back to your local server and open another terminal.* In order to open jupyter notbook on your local firefox, you can use a command below."
   ]
  },
  {
   "cell_type": "raw",
   "metadata": {},
   "source": [
    ">> ssh -N -o ProxyCommand=\"ssh -q [your_student_number]@student.ssh.inf.ed.ac.uk nc ashbury.inf.ed.ac.uk 22\" -L [Any_localhost_number_you_want]:localhost:[Dice_server_localhost_number] [your_student_number]@[name_of_server].inf.ed.ac.uk"
   ]
  },
  {
   "cell_type": "markdown",
   "metadata": {},
   "source": [
    "You might be confused about the long command...\n",
    "My example is as follows.\n",
    "\n",
    "\n",
    "\n",
    "[Any_localhost_number_you_want] = 8880\n",
    "\n",
    "[Dice_server_localhost_number] = 8888 (This is the number informed at last step.)\n",
    "\n",
    "[name_of_server] = ashbury\n",
    "\n",
    "\n",
    "Finally, you can open jupyter notebook on your local firefox via address \"localhost:[Any_localhost_number_you_want]\". (Type this line at address bar.)\n",
    "\n",
    "At first, you might need to set a password for jupyter notbook because of security problem."
   ]
  },
  {
   "cell_type": "markdown",
   "metadata": {},
   "source": [
    "### 3. From Dice to GPU server\n",
    "\n",
    "*Let's comback to dice server terminal.*\n",
    "You can connect to GPU server using one of both command lines. "
   ]
  },
  {
   "cell_type": "raw",
   "metadata": {},
   "source": [
    ">> ssh mlp1\n",
    "\n",
    "OR\n",
    "\n",
    ">> ssh mlp2"
   ]
  },
  {
   "cell_type": "markdown",
   "metadata": {},
   "source": [
    "Now you're on gpu server(=gpu cluster) and need to set gpu environment once following commands below."
   ]
  },
  {
   "cell_type": "raw",
   "metadata": {},
   "source": [
    ">> wget https://repo.continuum.io/miniconda/Miniconda3-latest-Linux-x86_64.sh\n",
    "\n",
    ">> bash Miniconda3-latest-Linux-x86_64.sh"
   ]
  },
  {
   "cell_type": "markdown",
   "metadata": {},
   "source": [
    "During installation, you should type \"yes\" for first question and press ENTER for next question. "
   ]
  },
  {
   "cell_type": "raw",
   "metadata": {},
   "source": [
    "Do you accept the license terms? [yes|no]\n",
    "[no] >>> yes\n",
    "\n",
    "--------------------------------------------------------------\n",
    "\n",
    "Miniconda3 will now be installed into this location:\n",
    "/home/sxxxxxxx/miniconda3\n",
    "\n",
    "  - Press ENTER to confirm the location\n",
    "  - Press CTRL-C to abort the installation\n",
    "  - Or specify a different location below"
   ]
  },
  {
   "cell_type": "markdown",
   "metadata": {},
   "source": [
    "Then you should follow commands below to finish setup."
   ]
  },
  {
   "cell_type": "raw",
   "metadata": {},
   "source": [
    ">> source .bashrc\n",
    "\n",
    ">> source activate\n",
    "\n",
    ">> conda create -n mlp python=3\n",
    "\n",
    ">> source activate mlp\n",
    "\n",
    ">> conda install git\n",
    "\n",
    ">> git clone https://github.com/CSTR-Edinburgh/mlpractical.git.\n",
    "\n",
    ">> git checkout mlp2017-8/semester_2_materials.\n",
    "\n",
    ">> cd mlpractical\n",
    "\n",
    ">> pip install -r requirements_gpu.txt.\n",
    "   \n",
    ">> cd ~/miniconda3/envs/mlp\n",
    "\n",
    ">> mkdir -p ./etc/conda/activate.d\n",
    "\n",
    ">> mkdir -p ./etc/conda/deactivate.d\n",
    "\n",
    ">> echo -e '#!/bin/sh\\n' >> ./etc/conda/activate.d/env_vars.sh\n",
    "\n",
    ">> echo \"export MLP_DATA_DIR=$HOME/mlpractical/data\" >> ./etc/conda/activate.d/env_vars.sh\n",
    "\n",
    ">> echo -e '#!/bin/sh\\n' >> ./etc/conda/deactivate.d/env_vars.sh\n",
    "\n",
    ">> echo 'unset MLP_DATA_DIR' >> ./etc/conda/deactivate.d/env_vars.sh\n",
    "\n",
    ">> export MLP_DATA_DIR=$HOME/mlpractical/data\n",
    "\n",
    ">> conda clean -t"
   ]
  },
  {
   "cell_type": "markdown",
   "metadata": {},
   "source": [
    "If you want to use both servers, mlp1 and mlp2, you should set gpu environment on every two servers. \n",
    "\n",
    "Whenever you login to the cluster, remember to run:"
   ]
  },
  {
   "cell_type": "raw",
   "metadata": {},
   "source": [
    ">> source .bashrc\n",
    ">> source activate mlp"
   ]
  },
  {
   "cell_type": "markdown",
   "metadata": {},
   "source": [
    "Install scipy, sklearn and matplotlib."
   ]
  },
  {
   "cell_type": "markdown",
   "metadata": {},
   "source": [
    "Copy your data and code up to the cluster. To do this, simply use the following command, adding data_directory, cluster_number (1 or 2, whichever you are set up on) and student_id."
   ]
  },
  {
   "cell_type": "code",
   "execution_count": null,
   "metadata": {},
   "outputs": [],
   "source": [
    "rsync -r <data_directory> mlp<cluster_number>:/home/<student_id>\n",
    "rsync -r <code_directory> mlp<cluster_number>:/home/<student_id>"
   ]
  },
  {
   "cell_type": "markdown",
   "metadata": {},
   "source": [
    "Now you successfully set your gpu environment.\n",
    "\n",
    "For each experiment you need to run the script below, substituting in the correct values for:\n",
    "* X in the output and error file path\n",
    "* The python command at the end. This command is automatically generated in our experiment google sheet.\n",
    "\n",
    "WARNING: it's tempting to pass in parameters into the below bash script, so you don't have to manually edit it each time you want to run an experiment. I (ben) tried this, but couldn't get it to work (the #SBATCH stuff interferes I guess). You could try automating the generation of this entire script from the google sheet, but I haven't bothered..."
   ]
  },
  {
   "cell_type": "raw",
   "metadata": {},
   "source": [
    "#!/bin/sh\n",
    "#SBATCH -N 1      # nodes requested\n",
    "#SBATCH -n 1      # tasks requested\n",
    "#SBATCH --gres=gpu:1\n",
    "#SBATCH --mem=16000  # memory in Mb\n",
    "#SBATCH -o experiment<X>/out_file # see --model_dir column in our 'mlp-group-experiments' google sheet\n",
    "#SBATCH -e experiment<X>/err/err_file# send stderr to sample_experiment_errfile\n",
    "\n",
    "export CUDA_HOME=/opt/cuda-8.0.44\n",
    "\n",
    "export CUDNN_HOME=/opt/cuDNN-6.0_8.0\n",
    "\n",
    "export STUDENT_ID=$(whoami)\n",
    "\n",
    "export LD_LIBRARY_PATH=${CUDNN_HOME}/lib64:${CUDA_HOME}/lib64:$LD_LIBRARY_PATH\n",
    "\n",
    "export LIBRARY_PATH=${CUDNN_HOME}/lib64:$LIBRARY_PATH\n",
    "\n",
    "export CPATH=${CUDNN_HOME}/include:$CPATH\n",
    "\n",
    "export PATH=${CUDA_HOME}/bin:${PATH}\n",
    "\n",
    "export PYTHON_PATH=$PATH\n",
    "\n",
    "mkdir -p /disk/scratch/${STUDENT_ID}\n",
    "\n",
    "export TMPDIR=/disk/scratch/${STUDENT_ID}/\n",
    "export TMP=/disk/scratch/${STUDENT_ID}/\n",
    "# Activate the relevant virtual environment:\n",
    "\n",
    "source /home/${STUDENT_ID}/miniconda3/bin/activate mlp\n",
    "\n",
    "python ./run_training.py --which_year=09 --learn_rate=0.1 --decay=0.96 --keep_prob=0.6 --epochs=100 --model_dir=./gpu_09_100epochs_0.1lr_do6_decay96_stateprob_newinit --clip_norm=0.5\n"
   ]
  },
  {
   "cell_type": "markdown",
   "metadata": {},
   "source": [
    "You can give a job use a sbach command line, and will get job number which is necessary to check wheter your job is running. You can see printing results from output file and error results (if error happended during running) from error file. "
   ]
  },
  {
   "cell_type": "raw",
   "metadata": {},
   "source": [
    ">> sbatch script.sh\n",
    "\n",
    "Submitted batch job [job_number]\n",
    "\n",
    ">> squeue | grep <student_id>\n",
    "(This is a command to check all your jobs on the gpu cluster)"
   ]
  },
  {
   "cell_type": "markdown",
   "metadata": {},
   "source": [
    "But if you don't want your job on gpu cluster to be automatically cancelled when exiting ssh, you can use nohup and longjob."
   ]
  },
  {
   "cell_type": "raw",
   "metadata": {},
   "source": [
    "(echo '<your_dice_password>' | nohup longjob -28day -c 'sbatch script.sh' > nohup.out) &"
   ]
  },
  {
   "cell_type": "markdown",
   "metadata": {},
   "source": [
    "Finally you can copy your result from gpu server to your dice server. "
   ]
  },
  {
   "cell_type": "raw",
   "metadata": {},
   "source": [
    ">> cp [your_result_file] /afs/inf.ed.ac.uk/u/s/[your_student_id]"
   ]
  },
  {
   "cell_type": "markdown",
   "metadata": {},
   "source": [
    "Finally, we still need to work out how to keep jobs running after disconnecting from ssh. It seems like some combination of 'longjob -28day -c <command>' and the linux command 'screen' will work, but we need to fiddle with it."
   ]
  },
  {
   "cell_type": "code",
   "execution_count": null,
   "metadata": {},
   "outputs": [],
   "source": []
  }
 ],
 "metadata": {
  "kernelspec": {
   "display_name": "Python 2",
   "language": "python",
   "name": "python2"
  },
  "language_info": {
   "codemirror_mode": {
    "name": "ipython",
    "version": 2
   },
   "file_extension": ".py",
   "mimetype": "text/x-python",
   "name": "python",
   "nbconvert_exporter": "python",
   "pygments_lexer": "ipython2",
   "version": "2.7.12"
  },
  "toc": {
   "nav_menu": {},
   "number_sections": true,
   "sideBar": true,
   "skip_h1_title": false,
   "title_cell": "Table of Contents",
   "title_sidebar": "Contents",
   "toc_cell": false,
   "toc_position": {},
   "toc_section_display": true,
   "toc_window_display": false
  }
 },
 "nbformat": 4,
 "nbformat_minor": 2
}
